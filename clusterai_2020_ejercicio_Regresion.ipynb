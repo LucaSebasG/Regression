{
 "cells": [
  {
   "cell_type": "markdown",
   "metadata": {},
   "source": [
    "# ClusterAI 2020\n",
    "# Ciencia de Datos - Ingeniería Industrial - UTN BA\n",
    "\n",
    "### Ejercicio de Regresión. Práctica para la clase 8"
   ]
  },
  {
   "cell_type": "code",
   "execution_count": 1,
   "metadata": {},
   "outputs": [],
   "source": [
    "import numpy as np\n",
    "import pandas as pd\n",
    "import matplotlib.pyplot as plt\n",
    "import seaborn as sns\n",
    "\n",
    "#SK-Learn\n",
    "from sklearn.model_selection import train_test_split, GridSearchCV\n",
    "from sklearn.preprocessing import PolynomialFeatures\n",
    "#Scalers\n",
    "#https://scikit-learn.org/stable/modules/classes.html#module-sklearn.preprocessing\n",
    "from sklearn.preprocessing import StandardScaler,MinMaxScaler\n",
    "#Modelos Lineales\n",
    "from sklearn.linear_model import LinearRegression , Ridge\n",
    "from sklearn.svm import SVR\n",
    "#Metricas\n",
    "from sklearn.metrics import mean_squared_error"
   ]
  },
  {
   "cell_type": "markdown",
   "metadata": {},
   "source": [
    "### Cargo el Dataset, y realizo una primer visualización de los datos\n"
   ]
  },
  {
   "cell_type": "code",
   "execution_count": 2,
   "metadata": {},
   "outputs": [
    {
     "name": "stdout",
     "output_type": "stream",
     "text": [
      " Volume in drive C is OS\n",
      " Volume Serial Number is 1001-875D\n",
      "\n",
      " Directory of C:\\Users\\60065215\\Desktop\\Facultad\\Ciencia de Datos\\clase_07\n",
      "\n",
      "10/16/2020  10:51 PM    <DIR>          .\n",
      "10/16/2020  10:51 PM    <DIR>          ..\n",
      "10/15/2020  04:39 PM    <DIR>          .ipynb_checkpoints\n",
      "10/09/2020  10:15 PM             2,408 clusterai_2020_clase07_clustering_asignacion_properati.ipynb\n",
      "10/15/2020  07:43 PM           292,448 clusterai_2020_clase07_clustering_credit.ipynb\n",
      "10/14/2020  08:46 PM           394,600 clusterai_2020_clase07_clustering_vinos.ipynb\n",
      "10/09/2020  09:39 PM           902,879 clusterai_2020_clase07_dataset_credit.csv\n",
      "10/09/2020  09:39 PM         2,969,024 clusterai_2020_clase07_dataset_properati_caba.csv\n",
      "10/09/2020  10:15 PM         1,537,377 clusterai_2020_clase07_presentacion.pdf\n",
      "10/16/2020  10:51 PM             9,148 clusterai_2020_ejercicio_Regresion.ipynb\n",
      "10/17/2019  10:52 AM            10,782 wine.data\n",
      "10/17/2019  10:47 AM             3,036 wine.names\n",
      "10/15/2020  04:08 PM               367 X_test.csv\n",
      "10/15/2020  04:08 PM             3,662 Xy_train.csv\n",
      "              11 File(s)      6,125,731 bytes\n",
      "               3 Dir(s)  361,121,976,320 bytes free\n"
     ]
    }
   ],
   "source": [
    "ls"
   ]
  },
  {
   "cell_type": "code",
   "execution_count": 3,
   "metadata": {},
   "outputs": [],
   "source": [
    "df = pd.read_csv(\"Xy_train.csv\")\n",
    "df_test = pd.read_csv(\"X_test.csv\")"
   ]
  },
  {
   "cell_type": "code",
   "execution_count": 4,
   "metadata": {},
   "outputs": [
    {
     "data": {
      "text/plain": [
       "(100, 2)"
      ]
     },
     "execution_count": 4,
     "metadata": {},
     "output_type": "execute_result"
    }
   ],
   "source": [
    "df.shape"
   ]
  },
  {
   "cell_type": "code",
   "execution_count": 5,
   "metadata": {},
   "outputs": [
    {
     "data": {
      "text/plain": [
       "(20, 1)"
      ]
     },
     "execution_count": 5,
     "metadata": {},
     "output_type": "execute_result"
    }
   ],
   "source": [
    "df_test.shape"
   ]
  },
  {
   "cell_type": "code",
   "execution_count": 6,
   "metadata": {},
   "outputs": [
    {
     "data": {
      "text/html": [
       "<div>\n",
       "<style scoped>\n",
       "    .dataframe tbody tr th:only-of-type {\n",
       "        vertical-align: middle;\n",
       "    }\n",
       "\n",
       "    .dataframe tbody tr th {\n",
       "        vertical-align: top;\n",
       "    }\n",
       "\n",
       "    .dataframe thead th {\n",
       "        text-align: right;\n",
       "    }\n",
       "</style>\n",
       "<table border=\"1\" class=\"dataframe\">\n",
       "  <thead>\n",
       "    <tr style=\"text-align: right;\">\n",
       "      <th></th>\n",
       "      <th>X</th>\n",
       "      <th>y</th>\n",
       "    </tr>\n",
       "  </thead>\n",
       "  <tbody>\n",
       "    <tr>\n",
       "      <th>0</th>\n",
       "      <td>2.273360</td>\n",
       "      <td>6.054685</td>\n",
       "    </tr>\n",
       "    <tr>\n",
       "      <th>1</th>\n",
       "      <td>3.167583</td>\n",
       "      <td>4.581428</td>\n",
       "    </tr>\n",
       "    <tr>\n",
       "      <th>2</th>\n",
       "      <td>7.973655</td>\n",
       "      <td>5.392507</td>\n",
       "    </tr>\n",
       "    <tr>\n",
       "      <th>3</th>\n",
       "      <td>6.762547</td>\n",
       "      <td>3.108068</td>\n",
       "    </tr>\n",
       "    <tr>\n",
       "      <th>4</th>\n",
       "      <td>3.911096</td>\n",
       "      <td>4.225744</td>\n",
       "    </tr>\n",
       "    <tr>\n",
       "      <th>...</th>\n",
       "      <td>...</td>\n",
       "      <td>...</td>\n",
       "    </tr>\n",
       "    <tr>\n",
       "      <th>95</th>\n",
       "      <td>3.787495</td>\n",
       "      <td>5.133706</td>\n",
       "    </tr>\n",
       "    <tr>\n",
       "      <th>96</th>\n",
       "      <td>2.759471</td>\n",
       "      <td>4.308327</td>\n",
       "    </tr>\n",
       "    <tr>\n",
       "      <th>97</th>\n",
       "      <td>9.661041</td>\n",
       "      <td>11.923565</td>\n",
       "    </tr>\n",
       "    <tr>\n",
       "      <th>98</th>\n",
       "      <td>0.582026</td>\n",
       "      <td>1.335725</td>\n",
       "    </tr>\n",
       "    <tr>\n",
       "      <th>99</th>\n",
       "      <td>4.087339</td>\n",
       "      <td>5.641851</td>\n",
       "    </tr>\n",
       "  </tbody>\n",
       "</table>\n",
       "<p>100 rows × 2 columns</p>\n",
       "</div>"
      ],
      "text/plain": [
       "           X          y\n",
       "0   2.273360   6.054685\n",
       "1   3.167583   4.581428\n",
       "2   7.973655   5.392507\n",
       "3   6.762547   3.108068\n",
       "4   3.911096   4.225744\n",
       "..       ...        ...\n",
       "95  3.787495   5.133706\n",
       "96  2.759471   4.308327\n",
       "97  9.661041  11.923565\n",
       "98  0.582026   1.335725\n",
       "99  4.087339   5.641851\n",
       "\n",
       "[100 rows x 2 columns]"
      ]
     },
     "execution_count": 6,
     "metadata": {},
     "output_type": "execute_result"
    }
   ],
   "source": [
    "df"
   ]
  },
  {
   "cell_type": "code",
   "execution_count": 7,
   "metadata": {},
   "outputs": [
    {
     "data": {
      "text/html": [
       "<div>\n",
       "<style scoped>\n",
       "    .dataframe tbody tr th:only-of-type {\n",
       "        vertical-align: middle;\n",
       "    }\n",
       "\n",
       "    .dataframe tbody tr th {\n",
       "        vertical-align: top;\n",
       "    }\n",
       "\n",
       "    .dataframe thead th {\n",
       "        text-align: right;\n",
       "    }\n",
       "</style>\n",
       "<table border=\"1\" class=\"dataframe\">\n",
       "  <thead>\n",
       "    <tr style=\"text-align: right;\">\n",
       "      <th></th>\n",
       "      <th>X</th>\n",
       "    </tr>\n",
       "  </thead>\n",
       "  <tbody>\n",
       "    <tr>\n",
       "      <th>0</th>\n",
       "      <td>6.170800</td>\n",
       "    </tr>\n",
       "    <tr>\n",
       "      <th>1</th>\n",
       "      <td>6.302022</td>\n",
       "    </tr>\n",
       "    <tr>\n",
       "      <th>2</th>\n",
       "      <td>8.689293</td>\n",
       "    </tr>\n",
       "    <tr>\n",
       "      <th>3</th>\n",
       "      <td>2.376897</td>\n",
       "    </tr>\n",
       "    <tr>\n",
       "      <th>4</th>\n",
       "      <td>2.707320</td>\n",
       "    </tr>\n",
       "    <tr>\n",
       "      <th>5</th>\n",
       "      <td>6.555949</td>\n",
       "    </tr>\n",
       "    <tr>\n",
       "      <th>6</th>\n",
       "      <td>8.492565</td>\n",
       "    </tr>\n",
       "    <tr>\n",
       "      <th>7</th>\n",
       "      <td>0.111064</td>\n",
       "    </tr>\n",
       "    <tr>\n",
       "      <th>8</th>\n",
       "      <td>9.121449</td>\n",
       "    </tr>\n",
       "    <tr>\n",
       "      <th>9</th>\n",
       "      <td>2.675377</td>\n",
       "    </tr>\n",
       "    <tr>\n",
       "      <th>10</th>\n",
       "      <td>3.242831</td>\n",
       "    </tr>\n",
       "    <tr>\n",
       "      <th>11</th>\n",
       "      <td>6.416299</td>\n",
       "    </tr>\n",
       "    <tr>\n",
       "      <th>12</th>\n",
       "      <td>9.158768</td>\n",
       "    </tr>\n",
       "    <tr>\n",
       "      <th>13</th>\n",
       "      <td>0.659650</td>\n",
       "    </tr>\n",
       "    <tr>\n",
       "      <th>14</th>\n",
       "      <td>4.682379</td>\n",
       "    </tr>\n",
       "    <tr>\n",
       "      <th>15</th>\n",
       "      <td>8.109528</td>\n",
       "    </tr>\n",
       "    <tr>\n",
       "      <th>16</th>\n",
       "      <td>4.961968</td>\n",
       "    </tr>\n",
       "    <tr>\n",
       "      <th>17</th>\n",
       "      <td>6.013856</td>\n",
       "    </tr>\n",
       "    <tr>\n",
       "      <th>18</th>\n",
       "      <td>7.149417</td>\n",
       "    </tr>\n",
       "    <tr>\n",
       "      <th>19</th>\n",
       "      <td>6.279854</td>\n",
       "    </tr>\n",
       "  </tbody>\n",
       "</table>\n",
       "</div>"
      ],
      "text/plain": [
       "           X\n",
       "0   6.170800\n",
       "1   6.302022\n",
       "2   8.689293\n",
       "3   2.376897\n",
       "4   2.707320\n",
       "5   6.555949\n",
       "6   8.492565\n",
       "7   0.111064\n",
       "8   9.121449\n",
       "9   2.675377\n",
       "10  3.242831\n",
       "11  6.416299\n",
       "12  9.158768\n",
       "13  0.659650\n",
       "14  4.682379\n",
       "15  8.109528\n",
       "16  4.961968\n",
       "17  6.013856\n",
       "18  7.149417\n",
       "19  6.279854"
      ]
     },
     "execution_count": 7,
     "metadata": {},
     "output_type": "execute_result"
    }
   ],
   "source": [
    "df_test"
   ]
  },
  {
   "cell_type": "code",
   "execution_count": 8,
   "metadata": {
    "scrolled": false
   },
   "outputs": [
    {
     "data": {
      "image/png": "[encoded data removed]",
      "text/plain": [
       "<Figure size 648x432 with 1 Axes>"
      ]
     },
     "metadata": {
      "needs_background": "light"
     },
     "output_type": "display_data"
    }
   ],
   "source": [
    "plt.figure(figsize=(9,6))\n",
    "plt.scatter(x = df.iloc[:,0], y = df.iloc[:,1] )    \n",
    "plt.xlabel('X')\n",
    "plt.ylabel('Y')\n",
    "plt.title('XY Train Info')\n",
    "plt.tight_layout()\n",
    "plt.show(block=True)"
   ]
  },
  {
   "cell_type": "code",
   "execution_count": 9,
   "metadata": {},
   "outputs": [],
   "source": [
    "# Vamos a crear un dataframe para guardar los resultados de cada estimador\n",
    "results_df = pd.DataFrame(columns=['Model','MSE'])"
   ]
  },
  {
   "cell_type": "markdown",
   "metadata": {},
   "source": [
    "### Linear Regression"
   ]
  },
  {
   "cell_type": "code",
   "execution_count": 10,
   "metadata": {},
   "outputs": [],
   "source": [
    "x1_train = df[[\"X\"]]\n",
    "y1_train = df[[\"y\"]]"
   ]
  },
  {
   "cell_type": "code",
   "execution_count": 11,
   "metadata": {},
   "outputs": [
    {
     "data": {
      "text/plain": [
       "LinearRegression()"
      ]
     },
     "execution_count": 11,
     "metadata": {},
     "output_type": "execute_result"
    }
   ],
   "source": [
    "#Calculo la regresión lineal\n",
    "regr = LinearRegression()\n",
    "regr.fit(x1_train,y1_train)"
   ]
  },
  {
   "cell_type": "code",
   "execution_count": 12,
   "metadata": {},
   "outputs": [],
   "source": [
    "#Hago la predicción\n",
    "y_pred = regr.predict(x1_train)"
   ]
  },
  {
   "cell_type": "code",
   "execution_count": 13,
   "metadata": {},
   "outputs": [
    {
     "data": {
      "text/plain": [
       "3.48144471797341"
      ]
     },
     "execution_count": 13,
     "metadata": {},
     "output_type": "execute_result"
    }
   ],
   "source": [
    "#Calculo el error\n",
    "linear_mse = mean_squared_error(y_true = y1_train, y_pred = y_pred)\n",
    "linear_mse"
   ]
  },
  {
   "cell_type": "code",
   "execution_count": 14,
   "metadata": {
    "scrolled": false
   },
   "outputs": [
    {
     "name": "stdout",
     "output_type": "stream",
     "text": [
      "MSE: 3.481445\n"
     ]
    },
    {
     "data": {
      "image/png": "[encoded data removed]",
      "text/plain": [
       "<Figure size 432x288 with 1 Axes>"
      ]
     },
     "metadata": {
      "needs_background": "light"
     },
     "output_type": "display_data"
    }
   ],
   "source": [
    "#Vamos a plotear Predictions vs True values\n",
    "plt.scatter(y_pred, y1_train)\n",
    "plt.plot(np.arange(2,10),np.arange(2,10), 'r', label='Identity') #Linea identidad (Predictions = True Values)\n",
    "plt.xlabel('Predictions')\n",
    "plt.ylabel('True Values')\n",
    "plt.legend()\n",
    "print(f'MSE: {linear_mse:.6f}')"
   ]
  },
  {
   "cell_type": "code",
   "execution_count": 15,
   "metadata": {},
   "outputs": [
    {
     "data": {
      "text/plain": [
       "array([[5.96759494],\n",
       "       [6.03934112],\n",
       "       [7.34459198],\n",
       "       [3.89326209],\n",
       "       [4.07392204],\n",
       "       [6.17817658],\n",
       "       [7.23702974],\n",
       "       [2.6544078 ],\n",
       "       [7.5808747 ],\n",
       "       [4.05645739],\n",
       "       [4.3667152 ],\n",
       "       [6.10182228],\n",
       "       [7.60127901],\n",
       "       [2.95434962],\n",
       "       [5.15379446],\n",
       "       [7.02760273],\n",
       "       [5.30666086],\n",
       "       [5.88178477],\n",
       "       [6.50265793],\n",
       "       [6.02722072]])"
      ]
     },
     "execution_count": 15,
     "metadata": {},
     "output_type": "execute_result"
    }
   ],
   "source": [
    "# Uso el dataset de test para predecir las los valores.\n",
    "y_pred_test = regr.predict(df_test)\n",
    "y_pred_test"
   ]
  },
  {
   "cell_type": "code",
   "execution_count": 16,
   "metadata": {},
   "outputs": [],
   "source": [
    "#Guardo los resultados en mi dataframe de resultados.\n",
    "results_df = results_df.append({'Model':'Linear Classic',\n",
    "                                'MSE':linear_mse,},ignore_index=True)"
   ]
  },
  {
   "cell_type": "markdown",
   "metadata": {},
   "source": [
    "##### Tal cual se suponia aplicar una regresión lineal pura da un resultado muy malo, ya que los valores no tienen una distribución lineal."
   ]
  },
  {
   "cell_type": "markdown",
   "metadata": {},
   "source": [
    "### Polynomial Features"
   ]
  },
  {
   "cell_type": "code",
   "execution_count": 17,
   "metadata": {},
   "outputs": [],
   "source": [
    "#df_poly = pd.DataFrame(columns=['X0','X','Y','X3','X4','X5'])"
   ]
  },
  {
   "cell_type": "code",
   "execution_count": 18,
   "metadata": {},
   "outputs": [
    {
     "data": {
      "text/plain": [
       "(100, 5)"
      ]
     },
     "execution_count": 18,
     "metadata": {},
     "output_type": "execute_result"
    }
   ],
   "source": [
    "grad_poly = 4\n",
    "poly = PolynomialFeatures(grad_poly).fit_transform(x1_train)\n",
    "poly.shape"
   ]
  },
  {
   "cell_type": "code",
   "execution_count": 19,
   "metadata": {},
   "outputs": [],
   "source": [
    "df_poly = pd.DataFrame (poly, columns=['X0','X','X2','X3','X4'])"
   ]
  },
  {
   "cell_type": "code",
   "execution_count": 20,
   "metadata": {},
   "outputs": [
    {
     "data": {
      "text/html": [
       "<div>\n",
       "<style scoped>\n",
       "    .dataframe tbody tr th:only-of-type {\n",
       "        vertical-align: middle;\n",
       "    }\n",
       "\n",
       "    .dataframe tbody tr th {\n",
       "        vertical-align: top;\n",
       "    }\n",
       "\n",
       "    .dataframe thead th {\n",
       "        text-align: right;\n",
       "    }\n",
       "</style>\n",
       "<table border=\"1\" class=\"dataframe\">\n",
       "  <thead>\n",
       "    <tr style=\"text-align: right;\">\n",
       "      <th></th>\n",
       "      <th>X0</th>\n",
       "      <th>X</th>\n",
       "      <th>X2</th>\n",
       "      <th>X3</th>\n",
       "      <th>X4</th>\n",
       "    </tr>\n",
       "  </thead>\n",
       "  <tbody>\n",
       "    <tr>\n",
       "      <th>0</th>\n",
       "      <td>1.0</td>\n",
       "      <td>2.273360</td>\n",
       "      <td>5.168167</td>\n",
       "      <td>11.749105</td>\n",
       "      <td>26.709947</td>\n",
       "    </tr>\n",
       "    <tr>\n",
       "      <th>1</th>\n",
       "      <td>1.0</td>\n",
       "      <td>3.167583</td>\n",
       "      <td>10.033585</td>\n",
       "      <td>31.782216</td>\n",
       "      <td>100.672819</td>\n",
       "    </tr>\n",
       "    <tr>\n",
       "      <th>2</th>\n",
       "      <td>1.0</td>\n",
       "      <td>7.973655</td>\n",
       "      <td>63.579167</td>\n",
       "      <td>506.958318</td>\n",
       "      <td>4042.310509</td>\n",
       "    </tr>\n",
       "    <tr>\n",
       "      <th>3</th>\n",
       "      <td>1.0</td>\n",
       "      <td>6.762547</td>\n",
       "      <td>45.732038</td>\n",
       "      <td>309.265043</td>\n",
       "      <td>2091.419297</td>\n",
       "    </tr>\n",
       "    <tr>\n",
       "      <th>4</th>\n",
       "      <td>1.0</td>\n",
       "      <td>3.911096</td>\n",
       "      <td>15.296668</td>\n",
       "      <td>59.826730</td>\n",
       "      <td>233.988054</td>\n",
       "    </tr>\n",
       "    <tr>\n",
       "      <th>...</th>\n",
       "      <td>...</td>\n",
       "      <td>...</td>\n",
       "      <td>...</td>\n",
       "      <td>...</td>\n",
       "      <td>...</td>\n",
       "    </tr>\n",
       "    <tr>\n",
       "      <th>95</th>\n",
       "      <td>1.0</td>\n",
       "      <td>3.787495</td>\n",
       "      <td>14.345118</td>\n",
       "      <td>54.332062</td>\n",
       "      <td>205.782410</td>\n",
       "    </tr>\n",
       "    <tr>\n",
       "      <th>96</th>\n",
       "      <td>1.0</td>\n",
       "      <td>2.759471</td>\n",
       "      <td>7.614679</td>\n",
       "      <td>21.012485</td>\n",
       "      <td>57.983339</td>\n",
       "    </tr>\n",
       "    <tr>\n",
       "      <th>97</th>\n",
       "      <td>1.0</td>\n",
       "      <td>9.661041</td>\n",
       "      <td>93.335715</td>\n",
       "      <td>901.720178</td>\n",
       "      <td>8711.555692</td>\n",
       "    </tr>\n",
       "    <tr>\n",
       "      <th>98</th>\n",
       "      <td>1.0</td>\n",
       "      <td>0.582026</td>\n",
       "      <td>0.338754</td>\n",
       "      <td>0.197164</td>\n",
       "      <td>0.114754</td>\n",
       "    </tr>\n",
       "    <tr>\n",
       "      <th>99</th>\n",
       "      <td>1.0</td>\n",
       "      <td>4.087339</td>\n",
       "      <td>16.706340</td>\n",
       "      <td>68.284475</td>\n",
       "      <td>279.101796</td>\n",
       "    </tr>\n",
       "  </tbody>\n",
       "</table>\n",
       "<p>100 rows × 5 columns</p>\n",
       "</div>"
      ],
      "text/plain": [
       "     X0         X         X2          X3           X4\n",
       "0   1.0  2.273360   5.168167   11.749105    26.709947\n",
       "1   1.0  3.167583  10.033585   31.782216   100.672819\n",
       "2   1.0  7.973655  63.579167  506.958318  4042.310509\n",
       "3   1.0  6.762547  45.732038  309.265043  2091.419297\n",
       "4   1.0  3.911096  15.296668   59.826730   233.988054\n",
       "..  ...       ...        ...         ...          ...\n",
       "95  1.0  3.787495  14.345118   54.332062   205.782410\n",
       "96  1.0  2.759471   7.614679   21.012485    57.983339\n",
       "97  1.0  9.661041  93.335715  901.720178  8711.555692\n",
       "98  1.0  0.582026   0.338754    0.197164     0.114754\n",
       "99  1.0  4.087339  16.706340   68.284475   279.101796\n",
       "\n",
       "[100 rows x 5 columns]"
      ]
     },
     "execution_count": 20,
     "metadata": {},
     "output_type": "execute_result"
    }
   ],
   "source": [
    "df_poly"
   ]
  },
  {
   "cell_type": "markdown",
   "metadata": {},
   "source": [
    "### Linear Regression con Polynomial Features"
   ]
  },
  {
   "cell_type": "code",
   "execution_count": 23,
   "metadata": {},
   "outputs": [
    {
     "name": "stdout",
     "output_type": "stream",
     "text": [
      "(100, 5) (100, 1)\n"
     ]
    }
   ],
   "source": [
    "#x2_train = df_poly.iloc[:, 0:5].values\n",
    "#y2_train = df_poly.iloc[:,5].values\n",
    "print(df_poly.shape,y1_train.shape)"
   ]
  },
  {
   "cell_type": "code",
   "execution_count": 24,
   "metadata": {
    "scrolled": true
   },
   "outputs": [],
   "source": [
    "#y2_train"
   ]
  },
  {
   "cell_type": "code",
   "execution_count": 25,
   "metadata": {},
   "outputs": [
    {
     "data": {
      "text/plain": [
       "LinearRegression()"
      ]
     },
     "execution_count": 25,
     "metadata": {},
     "output_type": "execute_result"
    }
   ],
   "source": [
    "#Calculo la regresión lineal\n",
    "regr2 = LinearRegression()\n",
    "regr2.fit(df_poly,y1_train)"
   ]
  },
  {
   "cell_type": "code",
   "execution_count": 26,
   "metadata": {},
   "outputs": [],
   "source": [
    "#Hago la predicción\n",
    "y2_pred = regr2.predict(df_poly)"
   ]
  },
  {
   "cell_type": "code",
   "execution_count": 27,
   "metadata": {},
   "outputs": [
    {
     "data": {
      "text/plain": [
       "0.5252703884848784"
      ]
     },
     "execution_count": 27,
     "metadata": {},
     "output_type": "execute_result"
    }
   ],
   "source": [
    "#Calculo el error\n",
    "linear_mse2 = mean_squared_error(y_true = y1_train, y_pred = y2_pred)\n",
    "linear_mse2"
   ]
  },
  {
   "cell_type": "code",
   "execution_count": 28,
   "metadata": {
    "scrolled": true
   },
   "outputs": [
    {
     "name": "stdout",
     "output_type": "stream",
     "text": [
      "MSE: 0.525270\n"
     ]
    },
    {
     "data": {
      "image/png": "[encoded data removed]",
      "text/plain": [
       "<Figure size 432x288 with 1 Axes>"
      ]
     },
     "metadata": {
      "needs_background": "light"
     },
     "output_type": "display_data"
    }
   ],
   "source": [
    "#Vamos a plotear Predictions vs True values\n",
    "plt.scatter(y2_pred, y1_train)\n",
    "plt.plot(np.arange(2,16),np.arange(2,16), 'r', label='Identity') #Linea identidad\n",
    "plt.xlabel('Predictions')\n",
    "plt.ylabel('True Values')\n",
    "plt.legend()\n",
    "print(f'MSE: {linear_mse2:.6f}')"
   ]
  },
  {
   "cell_type": "code",
   "execution_count": 29,
   "metadata": {},
   "outputs": [
    {
     "data": {
      "text/plain": [
       "array([[1.00000000e+00, 6.17080018e+00, 3.80787749e+01, 2.34976511e+02,\n",
       "        1.44999310e+03],\n",
       "       [1.00000000e+00, 6.30202215e+00, 3.97154832e+01, 2.50287855e+02,\n",
       "        1.57731961e+03],\n",
       "       [1.00000000e+00, 8.68929334e+00, 7.55038188e+01, 6.56074830e+02,\n",
       "        5.70082665e+03],\n",
       "       [1.00000000e+00, 2.37689724e+00, 5.64964051e+00, 1.34286150e+01,\n",
       "        3.19184379e+01],\n",
       "       [1.00000000e+00, 2.70731977e+00, 7.32958036e+00, 1.98435178e+01,\n",
       "        5.37227482e+01],\n",
       "       [1.00000000e+00, 6.55594874e+00, 4.29804638e+01, 2.81777718e+02,\n",
       "        1.84732027e+03],\n",
       "       [1.00000000e+00, 8.49256470e+00, 7.21236552e+01, 6.12514808e+02,\n",
       "        5.20182164e+03],\n",
       "       [1.00000000e+00, 1.11063719e-01, 1.23351496e-02, 1.36998758e-03,\n",
       "        1.52155915e-04],\n",
       "       [1.00000000e+00, 9.12144853e+00, 8.32008234e+01, 7.58912028e+02,\n",
       "        6.92237701e+03],\n",
       "       [1.00000000e+00, 2.67537737e+00, 7.15764408e+00, 1.91493990e+01,\n",
       "        5.12318688e+01],\n",
       "       [1.00000000e+00, 3.24283114e+00, 1.05159538e+01, 3.41014625e+01,\n",
       "        1.10585285e+02],\n",
       "       [1.00000000e+00, 6.41629862e+00, 4.11688880e+01, 2.64151880e+02,\n",
       "        1.69487734e+03],\n",
       "       [1.00000000e+00, 9.15876751e+00, 8.38830224e+01, 7.68265100e+02,\n",
       "        7.03636144e+03],\n",
       "       [1.00000000e+00, 6.59649805e-01, 4.35137865e-01, 2.87038608e-01,\n",
       "        1.89344961e-01],\n",
       "       [1.00000000e+00, 4.68237944e+00, 2.19246772e+01, 1.02659658e+02,\n",
       "        4.80691472e+02],\n",
       "       [1.00000000e+00, 8.10952793e+00, 6.57644432e+01, 5.33318589e+02,\n",
       "        4.32496199e+03],\n",
       "       [1.00000000e+00, 4.96196827e+00, 2.46211291e+01, 1.22169262e+02,\n",
       "        6.06200000e+02],\n",
       "       [1.00000000e+00, 6.01385553e+00, 3.61664584e+01, 2.17499856e+02,\n",
       "        1.30801271e+03],\n",
       "       [1.00000000e+00, 7.14941702e+00, 5.11141638e+01, 3.65436473e+02,\n",
       "        2.61265774e+03],\n",
       "       [1.00000000e+00, 6.27985424e+00, 3.94365692e+01, 2.47655906e+02,\n",
       "        1.55524299e+03]])"
      ]
     },
     "execution_count": 29,
     "metadata": {},
     "output_type": "execute_result"
    }
   ],
   "source": [
    "grad_poly = 4\n",
    "df_test_poly = PolynomialFeatures(grad_poly).fit_transform(df_test)\n",
    "df_test_poly"
   ]
  },
  {
   "cell_type": "code",
   "execution_count": 30,
   "metadata": {
    "scrolled": true
   },
   "outputs": [
    {
     "data": {
      "text/plain": [
       "array([[3.59331489],\n",
       "       [3.59197997],\n",
       "       [7.72926141],\n",
       "       [5.03080929],\n",
       "       [5.14889381],\n",
       "       [3.63593294],\n",
       "       [6.98549063],\n",
       "       [0.28137654],\n",
       "       [9.70080574],\n",
       "       [5.14215494],\n",
       "       [5.13251616],\n",
       "       [3.60378361],\n",
       "       [9.89415672],\n",
       "       [2.1908104 ],\n",
       "       [4.32626926],\n",
       "       [5.78810546],\n",
       "       [4.12985317],\n",
       "       [3.61404955],\n",
       "       [4.02665992],\n",
       "       [3.59112029]])"
      ]
     },
     "execution_count": 30,
     "metadata": {},
     "output_type": "execute_result"
    }
   ],
   "source": [
    "# Uso el dataset de test para predecir las los valores.\n",
    "y_pred_test2 = regr2.predict(df_test_poly)\n",
    "y_pred_test2"
   ]
  },
  {
   "cell_type": "code",
   "execution_count": 31,
   "metadata": {},
   "outputs": [],
   "source": [
    "#Guardo los resultados en mi dataframe de resultados.\n",
    "results_df = results_df.append({'Model':'Linear Polynomial Features',\n",
    "                                'MSE':linear_mse2,},ignore_index=True)"
   ]
  },
  {
   "cell_type": "code",
   "execution_count": 32,
   "metadata": {},
   "outputs": [
    {
     "data": {
      "text/html": [
       "<div>\n",
       "<style scoped>\n",
       "    .dataframe tbody tr th:only-of-type {\n",
       "        vertical-align: middle;\n",
       "    }\n",
       "\n",
       "    .dataframe tbody tr th {\n",
       "        vertical-align: top;\n",
       "    }\n",
       "\n",
       "    .dataframe thead th {\n",
       "        text-align: right;\n",
       "    }\n",
       "</style>\n",
       "<table border=\"1\" class=\"dataframe\">\n",
       "  <thead>\n",
       "    <tr style=\"text-align: right;\">\n",
       "      <th></th>\n",
       "      <th>Model</th>\n",
       "      <th>MSE</th>\n",
       "    </tr>\n",
       "  </thead>\n",
       "  <tbody>\n",
       "    <tr>\n",
       "      <th>0</th>\n",
       "      <td>Linear Classic</td>\n",
       "      <td>3.481445</td>\n",
       "    </tr>\n",
       "    <tr>\n",
       "      <th>1</th>\n",
       "      <td>Linear Polynomial Features</td>\n",
       "      <td>0.525270</td>\n",
       "    </tr>\n",
       "  </tbody>\n",
       "</table>\n",
       "</div>"
      ],
      "text/plain": [
       "                        Model       MSE\n",
       "0              Linear Classic  3.481445\n",
       "1  Linear Polynomial Features  0.525270"
      ]
     },
     "execution_count": 32,
     "metadata": {},
     "output_type": "execute_result"
    }
   ],
   "source": [
    "results_df"
   ]
  },
  {
   "cell_type": "markdown",
   "metadata": {},
   "source": [
    "### Support Vector Regression"
   ]
  },
  {
   "cell_type": "markdown",
   "metadata": {},
   "source": [
    "### Linear Features"
   ]
  },
  {
   "cell_type": "code",
   "execution_count": 34,
   "metadata": {},
   "outputs": [],
   "source": [
    "n_folds = 4\n",
    "# Ahora cambiamos el estimador, usaremos SVR\n",
    "est = SVR(max_iter=25000)\n",
    "# Lista del parametro lambda (parametro 'alpha')\n",
    "parameters = {'C' : [1000,1500,2000,3000,5000],\n",
    "              'epsilon' : [0.001, 0.01, 0.1,1, 10,100],\n",
    "             'gamma':[0.001, 0.01, 0.1,1, 10,100]}\n",
    "# Definimos nuevamente el objeto GS con los parametros previamente definidos\n",
    "gs = GridSearchCV(est, param_grid=parameters,refit=True,\n",
    "                  cv=n_folds, scoring=\"neg_mean_squared_error\",\n",
    "                  verbose=3, n_jobs=3)"
   ]
  },
  {
   "cell_type": "code",
   "execution_count": 35,
   "metadata": {},
   "outputs": [
    {
     "name": "stdout",
     "output_type": "stream",
     "text": [
      "Fitting 4 folds for each of 180 candidates, totalling 720 fits\n"
     ]
    },
    {
     "name": "stderr",
     "output_type": "stream",
     "text": [
      "[Parallel(n_jobs=3)]: Using backend LokyBackend with 3 concurrent workers.\n",
      "[Parallel(n_jobs=3)]: Done  26 tasks      | elapsed:    3.8s\n",
      "[Parallel(n_jobs=3)]: Done 720 out of 720 | elapsed:    8.2s finished\n",
      "C:\\Users\\60065215\\Anaconda3\\lib\\site-packages\\sklearn\\utils\\validation.py:73: DataConversionWarning: A column-vector y was passed when a 1d array was expected. Please change the shape of y to (n_samples, ), for example using ravel().\n",
      "  return f(**kwargs)\n"
     ]
    },
    {
     "data": {
      "text/plain": [
       "GridSearchCV(cv=4, estimator=SVR(max_iter=25000), n_jobs=3,\n",
       "             param_grid={'C': [1000, 1500, 2000, 3000, 5000],\n",
       "                         'epsilon': [0.001, 0.01, 0.1, 1, 10, 100],\n",
       "                         'gamma': [0.001, 0.01, 0.1, 1, 10, 100]},\n",
       "             scoring='neg_mean_squared_error', verbose=3)"
      ]
     },
     "execution_count": 35,
     "metadata": {},
     "output_type": "execute_result"
    }
   ],
   "source": [
    "# Entrenamos\n",
    "gs.fit(x1_train, y1_train)"
   ]
  },
  {
   "cell_type": "code",
   "execution_count": 36,
   "metadata": {},
   "outputs": [
    {
     "name": "stdout",
     "output_type": "stream",
     "text": [
      "{'C': 1500, 'epsilon': 0.1, 'gamma': 0.01} \n",
      "\n"
     ]
    }
   ],
   "source": [
    "print(gs.best_params_, \"\\n\")"
   ]
  },
  {
   "cell_type": "code",
   "execution_count": 38,
   "metadata": {},
   "outputs": [],
   "source": [
    "# Prediccion + Metricas\n",
    "svr_prediction = gs.best_estimator_.predict(x1_train)\n",
    "svr_mse = mean_squared_error(y_true=y1_train, y_pred=svr_prediction)"
   ]
  },
  {
   "cell_type": "code",
   "execution_count": 39,
   "metadata": {},
   "outputs": [
    {
     "name": "stdout",
     "output_type": "stream",
     "text": [
      "MSE: 0.574032\n"
     ]
    },
    {
     "data": {
      "image/png": "[encoded data removed]",
      "text/plain": [
       "<Figure size 432x288 with 1 Axes>"
      ]
     },
     "metadata": {
      "needs_background": "light"
     },
     "output_type": "display_data"
    }
   ],
   "source": [
    "plt.scatter(svr_prediction, y1_train)\n",
    "plt.plot(np.arange(0,16),np.arange(0,16), 'g', label='Identity')\n",
    "plt.xlabel('Predictions')\n",
    "plt.ylabel('True Values')\n",
    "plt.legend()\n",
    "print(f'MSE: {svr_mse:.6f}')"
   ]
  },
  {
   "cell_type": "code",
   "execution_count": 40,
   "metadata": {},
   "outputs": [],
   "source": [
    "results_df = results_df.append({'Model':'SVR Linear',\n",
    "                                'MSE':svr_mse},ignore_index=True)"
   ]
  },
  {
   "cell_type": "code",
   "execution_count": 41,
   "metadata": {},
   "outputs": [
    {
     "data": {
      "text/html": [
       "<div>\n",
       "<style scoped>\n",
       "    .dataframe tbody tr th:only-of-type {\n",
       "        vertical-align: middle;\n",
       "    }\n",
       "\n",
       "    .dataframe tbody tr th {\n",
       "        vertical-align: top;\n",
       "    }\n",
       "\n",
       "    .dataframe thead th {\n",
       "        text-align: right;\n",
       "    }\n",
       "</style>\n",
       "<table border=\"1\" class=\"dataframe\">\n",
       "  <thead>\n",
       "    <tr style=\"text-align: right;\">\n",
       "      <th></th>\n",
       "      <th>Model</th>\n",
       "      <th>MSE</th>\n",
       "    </tr>\n",
       "  </thead>\n",
       "  <tbody>\n",
       "    <tr>\n",
       "      <th>0</th>\n",
       "      <td>Linear Classic</td>\n",
       "      <td>3.481445</td>\n",
       "    </tr>\n",
       "    <tr>\n",
       "      <th>1</th>\n",
       "      <td>Linear Polynomial Features</td>\n",
       "      <td>0.525270</td>\n",
       "    </tr>\n",
       "    <tr>\n",
       "      <th>2</th>\n",
       "      <td>SVR Linear</td>\n",
       "      <td>0.574032</td>\n",
       "    </tr>\n",
       "  </tbody>\n",
       "</table>\n",
       "</div>"
      ],
      "text/plain": [
       "                        Model       MSE\n",
       "0              Linear Classic  3.481445\n",
       "1  Linear Polynomial Features  0.525270\n",
       "2                  SVR Linear  0.574032"
      ]
     },
     "execution_count": 41,
     "metadata": {},
     "output_type": "execute_result"
    }
   ],
   "source": [
    "results_df"
   ]
  },
  {
   "cell_type": "code",
   "execution_count": 42,
   "metadata": {},
   "outputs": [
    {
     "data": {
      "text/plain": [
       "array([3.33401181, 3.34121545, 7.66287572, 5.13365629, 5.26006932,\n",
       "       3.41022722, 6.96377566, 0.08464574, 9.4221957 , 5.25342106,\n",
       "       5.21500279, 3.36295688, 9.58826316, 2.02970181, 4.17734231,\n",
       "       5.78787146, 3.93650109, 3.3487225 , 3.89305857, 3.33869411])"
      ]
     },
     "execution_count": 42,
     "metadata": {},
     "output_type": "execute_result"
    }
   ],
   "source": [
    "# Uso el dataset de test para predecir las los valores.\n",
    "y_pred_test3 = gs.best_estimator_.predict(df_test)\n",
    "y_pred_test3"
   ]
  },
  {
   "cell_type": "markdown",
   "metadata": {},
   "source": [
    "### Polynomial Features"
   ]
  },
  {
   "cell_type": "code",
   "execution_count": 63,
   "metadata": {},
   "outputs": [],
   "source": [
    "# Ahora cambiamos el estimador, usaremos SVR\n",
    "est2 = SVR(max_iter=25000)\n",
    "# Lista del parametro lambda (parametro 'alpha')\n",
    "parameters2 = {'C' : [1000,1500,2000,3000,5000],\n",
    "              'epsilon' : [0.001, 0.01, 0.1,1, 10,100],\n",
    "             'gamma':[0.001, 0.002, 0.003,0.004, 0.005]}\n",
    "# Definimos nuevamente el objeto GS con los parametros previamente definidos\n",
    "gs2 = GridSearchCV(est2, param_grid=parameters2,refit=True,\n",
    "                  cv=n_folds, scoring=\"neg_mean_squared_error\",\n",
    "                  verbose=3, n_jobs=3)"
   ]
  },
  {
   "cell_type": "code",
   "execution_count": 64,
   "metadata": {},
   "outputs": [
    {
     "name": "stdout",
     "output_type": "stream",
     "text": [
      "Fitting 4 folds for each of 150 candidates, totalling 600 fits\n"
     ]
    },
    {
     "name": "stderr",
     "output_type": "stream",
     "text": [
      "[Parallel(n_jobs=3)]: Using backend LokyBackend with 3 concurrent workers.\n",
      "[Parallel(n_jobs=3)]: Done 106 tasks      | elapsed:    0.7s\n",
      "[Parallel(n_jobs=3)]: Done 600 out of 600 | elapsed:    4.8s finished\n",
      "C:\\Users\\60065215\\Anaconda3\\lib\\site-packages\\sklearn\\utils\\validation.py:73: DataConversionWarning: A column-vector y was passed when a 1d array was expected. Please change the shape of y to (n_samples, ), for example using ravel().\n",
      "  return f(**kwargs)\n"
     ]
    },
    {
     "data": {
      "text/plain": [
       "GridSearchCV(cv=4, estimator=SVR(max_iter=25000), n_jobs=3,\n",
       "             param_grid={'C': [1000, 1500, 2000, 3000, 5000],\n",
       "                         'epsilon': [0.001, 0.01, 0.1, 1, 10, 100],\n",
       "                         'gamma': [0.001, 0.002, 0.003, 0.004, 0.005]},\n",
       "             scoring='neg_mean_squared_error', verbose=3)"
      ]
     },
     "execution_count": 64,
     "metadata": {},
     "output_type": "execute_result"
    }
   ],
   "source": [
    "# Entrenamos\n",
    "gs2.fit(df_poly, y1_train)"
   ]
  },
  {
   "cell_type": "code",
   "execution_count": 65,
   "metadata": {},
   "outputs": [
    {
     "name": "stdout",
     "output_type": "stream",
     "text": [
      "{'C': 1000, 'epsilon': 1, 'gamma': 0.001} \n",
      "\n"
     ]
    }
   ],
   "source": [
    "print(gs2.best_params_, \"\\n\")"
   ]
  },
  {
   "cell_type": "code",
   "execution_count": 66,
   "metadata": {},
   "outputs": [],
   "source": [
    "# Prediccion + Metricas\n",
    "svr_poly_prediction = gs2.best_estimator_.predict(df_poly)\n",
    "svr_poly_mse = mean_squared_error(y_true=y1_train, y_pred=svr_poly_prediction)"
   ]
  },
  {
   "cell_type": "code",
   "execution_count": 67,
   "metadata": {},
   "outputs": [
    {
     "name": "stdout",
     "output_type": "stream",
     "text": [
      "MSE: 0.697387\n"
     ]
    },
    {
     "data": {
      "image/png": "[encoded data removed]",
      "text/plain": [
       "<Figure size 432x288 with 1 Axes>"
      ]
     },
     "metadata": {
      "needs_background": "light"
     },
     "output_type": "display_data"
    }
   ],
   "source": [
    "plt.scatter(svr_poly_prediction, y1_train)\n",
    "plt.plot(np.arange(0,16),np.arange(0,16), 'g', label='Identity')\n",
    "plt.xlabel('Predictions')\n",
    "plt.ylabel('True Values')\n",
    "plt.legend()\n",
    "print(f'MSE: {svr_poly_mse:.6f}')"
   ]
  },
  {
   "cell_type": "code",
   "execution_count": 68,
   "metadata": {},
   "outputs": [],
   "source": [
    "results_df = results_df.append({'Model':'SVR Polynomial',\n",
    "                                'MSE':svr_poly_mse},ignore_index=True)"
   ]
  },
  {
   "cell_type": "code",
   "execution_count": 52,
   "metadata": {},
   "outputs": [
    {
     "data": {
      "text/html": [
       "<div>\n",
       "<style scoped>\n",
       "    .dataframe tbody tr th:only-of-type {\n",
       "        vertical-align: middle;\n",
       "    }\n",
       "\n",
       "    .dataframe tbody tr th {\n",
       "        vertical-align: top;\n",
       "    }\n",
       "\n",
       "    .dataframe thead th {\n",
       "        text-align: right;\n",
       "    }\n",
       "</style>\n",
       "<table border=\"1\" class=\"dataframe\">\n",
       "  <thead>\n",
       "    <tr style=\"text-align: right;\">\n",
       "      <th></th>\n",
       "      <th>Model</th>\n",
       "      <th>MSE</th>\n",
       "    </tr>\n",
       "  </thead>\n",
       "  <tbody>\n",
       "    <tr>\n",
       "      <th>0</th>\n",
       "      <td>Linear Classic</td>\n",
       "      <td>3.481445</td>\n",
       "    </tr>\n",
       "    <tr>\n",
       "      <th>1</th>\n",
       "      <td>Linear Polynomial Features</td>\n",
       "      <td>0.525270</td>\n",
       "    </tr>\n",
       "    <tr>\n",
       "      <th>2</th>\n",
       "      <td>SVR Linear</td>\n",
       "      <td>0.574032</td>\n",
       "    </tr>\n",
       "    <tr>\n",
       "      <th>3</th>\n",
       "      <td>SVR Polynomial</td>\n",
       "      <td>0.697387</td>\n",
       "    </tr>\n",
       "  </tbody>\n",
       "</table>\n",
       "</div>"
      ],
      "text/plain": [
       "                        Model       MSE\n",
       "0              Linear Classic  3.481445\n",
       "1  Linear Polynomial Features  0.525270\n",
       "2                  SVR Linear  0.574032\n",
       "3              SVR Polynomial  0.697387"
      ]
     },
     "execution_count": 52,
     "metadata": {},
     "output_type": "execute_result"
    }
   ],
   "source": [
    "results_df"
   ]
  },
  {
   "cell_type": "code",
   "execution_count": 42,
   "metadata": {},
   "outputs": [
    {
     "data": {
      "text/plain": [
       "array([3.33401181, 3.34121545, 7.66287572, 5.13365629, 5.26006932,\n",
       "       3.41022722, 6.96377566, 0.08464574, 9.4221957 , 5.25342106,\n",
       "       5.21500279, 3.36295688, 9.58826316, 2.02970181, 4.17734231,\n",
       "       5.78787146, 3.93650109, 3.3487225 , 3.89305857, 3.33869411])"
      ]
     },
     "execution_count": 42,
     "metadata": {},
     "output_type": "execute_result"
    }
   ],
   "source": [
    "# Uso el dataset de test para predecir las los valores.\n",
    "y_pred_test3 = gs.best_estimator_.predict(df_test)\n",
    "y_pred_test3"
   ]
  },
  {
   "cell_type": "code",
   "execution_count": null,
   "metadata": {},
   "outputs": [],
   "source": []
  }
 ],
 "metadata": {
  "kernelspec": {
   "display_name": "Python 3",
   "language": "python",
   "name": "python3"
  },
  "language_info": {
   "codemirror_mode": {
    "name": "ipython",
    "version": 3
   },
   "file_extension": ".py",
   "mimetype": "text/x-python",
   "name": "python",
   "nbconvert_exporter": "python",
   "pygments_lexer": "ipython3",
   "version": "3.8.3"
  }
 },
 "nbformat": 4,
 "nbformat_minor": 4
}
